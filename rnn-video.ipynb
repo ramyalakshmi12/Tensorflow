{
 "cells": [
  {
   "cell_type": "markdown",
   "metadata": {},
   "source": [
    "This is a Feed forward Neural Network"
   ]
  },
  {
   "cell_type": "code",
   "execution_count": 1,
   "metadata": {
    "collapsed": true
   },
   "outputs": [],
   "source": [
    "import tensorflow as tf\n",
    "import numpy as np\n",
    "from tensorflow.examples.tutorials.mnist import input_data\n",
    "from tensorflow.python.ops import rnn, rnn_cell"
   ]
  },
  {
   "cell_type": "markdown",
   "metadata": {},
   "source": [
    "input > weights > hidden layer 1 (activation) > weights > hidden layer 2 (activation) > weights > output layer\n",
    "\n",
    "Compare output to intended output using cost or loss function(cross entropy)                                               \n",
    "optimization function (optimizer) > minimize cost (AdamOptimizer)\n",
    "\n",
    "backpropagation (going backwards and manupulating the weights)\n",
    "\n",
    "feed forward + backpropagation = epoch"
   ]
  },
  {
   "cell_type": "code",
   "execution_count": 2,
   "metadata": {
    "collapsed": false
   },
   "outputs": [
    {
     "name": "stdout",
     "output_type": "stream",
     "text": [
      "Extracting tmp/data/train-images-idx3-ubyte.gz\n",
      "Extracting tmp/data/train-labels-idx1-ubyte.gz\n",
      "Extracting tmp/data/t10k-images-idx3-ubyte.gz\n",
      "Extracting tmp/data/t10k-labels-idx1-ubyte.gz\n"
     ]
    }
   ],
   "source": [
    "mnist = input_data.read_data_sets(\"tmp/data/\", one_hot = True)"
   ]
  },
  {
   "cell_type": "code",
   "execution_count": 3,
   "metadata": {
    "collapsed": true
   },
   "outputs": [],
   "source": [
    "hm_epochs = 10\n",
    "n_classes = 10\n",
    "batch_size = 128\n",
    "\n",
    "chunk_size = 28\n",
    "n_chunks = 28\n",
    "rnn_size = 256"
   ]
  },
  {
   "cell_type": "code",
   "execution_count": 4,
   "metadata": {
    "collapsed": false
   },
   "outputs": [
    {
     "name": "stdout",
     "output_type": "stream",
     "text": [
      "('x = ', <tf.Tensor 'Placeholder:0' shape=(?, 28, 28) dtype=float32>)\n",
      "('Y = ', <tf.Tensor 'Placeholder_1:0' shape=<unknown> dtype=float32>)\n"
     ]
    }
   ],
   "source": [
    "x = tf.placeholder('float', [None, n_chunks, chunk_size])\n",
    "y = tf.placeholder('float')\n",
    "print (\"x = \", x)\n",
    "print (\"Y = \", y)"
   ]
  },
  {
   "cell_type": "code",
   "execution_count": 5,
   "metadata": {
    "collapsed": true
   },
   "outputs": [],
   "source": [
    "def neural_network_model(x):\n",
    "    \n",
    "    layer = {'weights': tf.Variable(tf.random_normal([rnn_size, n_classes])),\n",
    "                      'biases': tf.Variable(tf.random_normal([n_classes]))}\n",
    "    \n",
    "    x = tf.transpose(x, [1, 0, 2])\n",
    "    x = tf.reshape(x, [-1, chunk_size])\n",
    "    x = tf.split(x, n_chunks, 0)\n",
    "    \n",
    "    lstm_cell = rnn_cell.BasicLSTMCell(rnn_size)\n",
    "    outputs, states = rnn.static_rnn(lstm_cell, x, dtype=tf.float32)\n",
    "    \n",
    "    output = tf.add(tf.matmul(outputs[-1], layer['weights']), layer['biases'])\n",
    "    \n",
    "    return output\n",
    "    "
   ]
  },
  {
   "cell_type": "code",
   "execution_count": 6,
   "metadata": {
    "collapsed": true
   },
   "outputs": [],
   "source": [
    "def train_neural_network(x):\n",
    "    prediction = neural_network_model(x)\n",
    "    cost = tf.reduce_mean( tf.nn.softmax_cross_entropy_with_logits(logits=prediction, labels=y) )    \n",
    "    optimizer = tf.train.AdamOptimizer().minimize(cost)\n",
    "     \n",
    "    \n",
    "    with tf.Session() as sess: \n",
    "        sess.run(tf.global_variables_initializer())\n",
    "        \n",
    "        for epoch in range(hm_epochs):\n",
    "            epoch_loss = 0\n",
    "            \n",
    "            for _ in range(int(mnist.train.num_examples/batch_size)):\n",
    "                epoch_x, epoch_y = mnist.train.next_batch(batch_size)\n",
    "                epoch_x = epoch_x.reshape((batch_size, n_chunks, chunk_size))\n",
    "                \n",
    "                _, c = sess.run([optimizer, cost], feed_dict = {x: epoch_x, y: epoch_y})\n",
    "                \n",
    "                epoch_loss += c\n",
    "            print('Epoch ', epoch, ' Completed out of ', hm_epochs, ' Loss: ', epoch_loss)\n",
    "            \n",
    "        correct = tf.equal(tf.argmax(prediction, 1), tf.argmax(y, 1))\n",
    "        accuracy = tf.reduce_mean(tf.cast(correct, 'float'))\n",
    "        print('Accuracy: ', accuracy.eval({x: mnist.test.images.reshape((-1, n_chunks, chunk_size)), y: mnist.test.labels}))"
   ]
  },
  {
   "cell_type": "code",
   "execution_count": 7,
   "metadata": {
    "collapsed": false,
    "scrolled": false
   },
   "outputs": [
    {
     "name": "stdout",
     "output_type": "stream",
     "text": [
      "('Epoch ', 0, ' Completed out of ', 10, ' Loss: ', 164.69143953919411)\n",
      "('Epoch ', 1, ' Completed out of ', 10, ' Loss: ', 50.226362638175488)\n",
      "('Epoch ', 2, ' Completed out of ', 10, ' Loss: ', 34.496672049164772)\n",
      "('Epoch ', 3, ' Completed out of ', 10, ' Loss: ', 25.423532750923187)\n",
      "('Epoch ', 4, ' Completed out of ', 10, ' Loss: ', 21.246823365334421)\n",
      "('Epoch ', 5, ' Completed out of ', 10, ' Loss: ', 19.522982566035353)\n",
      "('Epoch ', 6, ' Completed out of ', 10, ' Loss: ', 15.132899320800789)\n",
      "('Epoch ', 7, ' Completed out of ', 10, ' Loss: ', 14.222527517005801)\n",
      "('Epoch ', 8, ' Completed out of ', 10, ' Loss: ', 11.735110368521418)\n",
      "('Epoch ', 9, ' Completed out of ', 10, ' Loss: ', 11.342846922110766)\n",
      "('Accuracy: ', 0.9825002)\n"
     ]
    }
   ],
   "source": [
    "train_neural_network(x)"
   ]
  },
  {
   "cell_type": "code",
   "execution_count": null,
   "metadata": {
    "collapsed": true
   },
   "outputs": [],
   "source": []
  },
  {
   "cell_type": "code",
   "execution_count": null,
   "metadata": {
    "collapsed": true
   },
   "outputs": [],
   "source": []
  }
 ],
 "metadata": {
  "anaconda-cloud": {},
  "kernelspec": {
   "display_name": "Python [conda root]",
   "language": "python",
   "name": "conda-root-py"
  },
  "language_info": {
   "codemirror_mode": {
    "name": "ipython",
    "version": 2
   },
   "file_extension": ".py",
   "mimetype": "text/x-python",
   "name": "python",
   "nbconvert_exporter": "python",
   "pygments_lexer": "ipython2",
   "version": "2.7.12"
  }
 },
 "nbformat": 4,
 "nbformat_minor": 1
}
