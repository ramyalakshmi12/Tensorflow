{
 "cells": [
  {
   "cell_type": "code",
   "execution_count": 10,
   "metadata": {
    "collapsed": false
   },
   "outputs": [
    {
     "name": "stdout",
     "output_type": "stream",
     "text": [
      "{u'faces': [{u'face_rectangle': {u'height': 205,\n",
      "                                 u'left': 239,\n",
      "                                 u'top': 402,\n",
      "                                 u'width': 205},\n",
      "             u'face_token': u'89df853d8996b65fde8b0d9f630e2854'}],\n",
      " u'image_id': u'2iM6U7M+wybRnD01fBBEoA==',\n",
      " u'request_id': u'1507162095,a70df9b1-8f44-4d45-bfa6-69003430d887',\n",
      " u'time_used': 174}\n",
      "None\n"
     ]
    }
   ],
   "source": [
    "# -*- coding: utf-8 -*-\n",
    "import urllib2\n",
    "import urllib\n",
    "import time\n",
    "import json\n",
    "import pprint\n",
    "http_url = 'https://api-us.faceplusplus.com/facepp/v3/detect'\n",
    "key = \"NDtBI2nWdEhGZabAjd4K2PIPUklj8WYl\"\n",
    "secret = \"s3f4Eb71t7qYj_m8VmFJiPvVS7i8QBNU\"\n",
    "filepath = r\"/home/administrator/Downloads/photo2.jpg\"\n",
    "boundary = '----------%s' % hex(int(time.time() * 1000))\n",
    "data = []\n",
    "data.append('--%s' % boundary)\n",
    "data.append('Content-Disposition: form-data; name=\"%s\"\\r\\n' % 'api_key')\n",
    "data.append(key)\n",
    "data.append('--%s' % boundary)\n",
    "data.append('Content-Disposition: form-data; name=\"%s\"\\r\\n' % 'api_secret')\n",
    "data.append(secret)\n",
    "data.append('--%s' % boundary)\n",
    "fr=open(filepath,'rb')\n",
    "data.append('Content-Disposition: form-data; name=\"%s\"; filename=\"co33.jpg\"' % 'image_file')\n",
    "data.append('Content-Type: %s\\r\\n' % 'application/octet-stream')\n",
    "data.append(fr.read())\n",
    "fr.close()\n",
    "data.append('--%s--\\r\\n' % boundary)\n",
    "\n",
    "http_body='\\r\\n'.join(data)\n",
    "#buld http request\n",
    "req=urllib2.Request(http_url)\n",
    "#header\n",
    "req.add_header('Content-Type', 'multipart/form-data; boundary=%s' % boundary)\n",
    "req.add_data(http_body)\n",
    "try:\n",
    "\t#post data to server\n",
    "\tresp = urllib2.urlopen(req, timeout=5)\n",
    "\t#get response\n",
    "\tqrcont=resp.read()\n",
    "    \n",
    "\tprint(pprint.pprint(json.loads(qrcont)))\n",
    "\n",
    "except urllib2.HTTPError as e:\n",
    "    print e.read()\n",
    "\n"
   ]
  },
  {
   "cell_type": "code",
   "execution_count": null,
   "metadata": {
    "collapsed": true
   },
   "outputs": [],
   "source": []
  }
 ],
 "metadata": {
  "anaconda-cloud": {},
  "kernelspec": {
   "display_name": "Python [conda root]",
   "language": "python",
   "name": "conda-root-py"
  },
  "language_info": {
   "codemirror_mode": {
    "name": "ipython",
    "version": 2
   },
   "file_extension": ".py",
   "mimetype": "text/x-python",
   "name": "python",
   "nbconvert_exporter": "python",
   "pygments_lexer": "ipython2",
   "version": "2.7.12"
  }
 },
 "nbformat": 4,
 "nbformat_minor": 1
}
