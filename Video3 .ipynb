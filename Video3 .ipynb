{
 "cells": [
  {
   "cell_type": "markdown",
   "metadata": {},
   "source": [
    "This is a Feed forward Neural Network"
   ]
  },
  {
   "cell_type": "code",
   "execution_count": 1,
   "metadata": {
    "collapsed": true
   },
   "outputs": [],
   "source": [
    "import tensorflow as tf\n",
    "from tensorflow.examples.tutorials.mnist import input_data"
   ]
  },
  {
   "cell_type": "markdown",
   "metadata": {},
   "source": [
    "input > weights > hidden layer 1 (activation) > weights > hidden layer 2 (activation) > weights > output layer\n",
    "\n",
    "Compare output to intended output using cost or loss function(cross entropy)                                               \n",
    "optimization function (optimizer) > minimize cost (AdamOptimizer)\n",
    "\n",
    "backpropagation (going backwards and manupulating the weights)\n",
    "\n",
    "feed forward + backpropagation = epoch"
   ]
  },
  {
   "cell_type": "code",
   "execution_count": 2,
   "metadata": {
    "collapsed": false,
    "scrolled": false
   },
   "outputs": [
    {
     "name": "stdout",
     "output_type": "stream",
     "text": [
      "Extracting tmp/data/train-images-idx3-ubyte.gz\n",
      "Extracting tmp/data/train-labels-idx1-ubyte.gz\n",
      "Extracting tmp/data/t10k-images-idx3-ubyte.gz\n",
      "Extracting tmp/data/t10k-labels-idx1-ubyte.gz\n"
     ]
    }
   ],
   "source": [
    "mnist = input_data.read_data_sets(\"tmp/data/\", one_hot = True)"
   ]
  },
  {
   "cell_type": "code",
   "execution_count": 9,
   "metadata": {
    "collapsed": true
   },
   "outputs": [],
   "source": [
    "n_nodes_hl1 = 5000\n",
    "n_nodes_hl2 = 5000\n",
    "n_nodes_hl3 = 5000\n",
    "n_nodes_hl4 = 5000\n",
    "\n",
    "n_classes = 10\n",
    "batch_size = 100"
   ]
  },
  {
   "cell_type": "code",
   "execution_count": 10,
   "metadata": {
    "collapsed": true
   },
   "outputs": [],
   "source": [
    "x = tf.placeholder('float', [None, 784])\n",
    "y = tf.placeholder('float')"
   ]
  },
  {
   "cell_type": "code",
   "execution_count": 11,
   "metadata": {
    "collapsed": true
   },
   "outputs": [],
   "source": [
    "def neural_network_model(data):\n",
    "    \n",
    "    hidden_1_layer = {'weights': tf.Variable(tf.truncated_normal([784, n_nodes_hl1])),\n",
    "                      'biases': tf.Variable(tf.truncated_normal([n_nodes_hl1]))}\n",
    "    \n",
    "    hidden_2_layer = {'weights': tf.Variable(tf.truncated_normal([n_nodes_hl1, n_nodes_hl2])),\n",
    "                      'biases': tf.Variable(tf.truncated_normal([n_nodes_hl2]))}\n",
    "    \n",
    "    output_layer = {'weights': tf.Variable(tf.truncated_normal([n_nodes_hl2, n_classes])),\n",
    "                      'biases': tf.Variable(tf.truncated_normal([n_classes]))}\n",
    "    \n",
    "    # Rectilinear function relu (like the sigmoid function)\n",
    "\n",
    "    l1 = tf.add(tf.matmul(data, hidden_1_layer['weights']), hidden_1_layer['biases'])\n",
    "    l1 = tf.nn.relu(l1)\n",
    "    \n",
    "    l2 = tf.add(tf.matmul(l1, hidden_2_layer['weights']), hidden_2_layer['biases'])\n",
    "    l2 = tf.nn.relu(l2)\n",
    "    \n",
    "    output = tf.add(tf.matmul(l2, output_layer['weights']), output_layer['biases'])\n",
    "    \n",
    "    return output\n",
    "    "
   ]
  },
  {
   "cell_type": "code",
   "execution_count": 12,
   "metadata": {
    "collapsed": false
   },
   "outputs": [],
   "source": [
    "def train_neural_network(x):\n",
    "    prediction = neural_network_model(x)\n",
    "    cost = tf.reduce_mean( tf.nn.softmax_cross_entropy_with_logits(logits=prediction, labels=y) )    \n",
    "    optimizer = tf.train.AdamOptimizer().minimize(cost)\n",
    "    \n",
    "    hm_epochs = 30\n",
    "    \n",
    "    with tf.Session() as sess: \n",
    "        sess.run(tf.global_variables_initializer())\n",
    "        \n",
    "        for epoch in range(hm_epochs):\n",
    "            epoch_loss = 0\n",
    "            \n",
    "            for _ in range(int(mnist.train.num_examples/batch_size)):\n",
    "                epoch_x, epoch_y = mnist.train.next_batch(batch_size)\n",
    "                _, c = sess.run([optimizer, cost], feed_dict = {x: epoch_x, y: epoch_y})\n",
    "                \n",
    "                epoch_loss += c\n",
    "            print('Epoch ', epoch, ' Completed out of ', hm_epochs, ' Loss: ', epoch_loss)\n",
    "            \n",
    "        correct = tf.equal(tf.argmax(prediction, 1), tf.argmax(y, 1))\n",
    "        accuracy = tf.reduce_mean(tf.cast(correct, 'float'))\n",
    "        print('Accuracy: ', accuracy.eval({x: mnist.test.images, y: mnist.test.labels}))"
   ]
  },
  {
   "cell_type": "code",
   "execution_count": 13,
   "metadata": {
    "collapsed": true
   },
   "outputs": [],
   "source": [
    "gpu_options = tf.GPUOptions(per_process_gpu_memory_fraction=0.3)\n",
    "sesso = tf.Session(config=tf.ConfigProto(gpu_options=gpu_options, log_device_placement=False))\n",
    "gpu_options.allow_growth = True\n",
    "\n",
    "if 'session' in locals() and session is not None:\n",
    "    print('Close interactive session')\n",
    "    session.close()"
   ]
  },
  {
   "cell_type": "code",
   "execution_count": 14,
   "metadata": {
    "collapsed": false,
    "scrolled": false
   },
   "outputs": [
    {
     "name": "stdout",
     "output_type": "stream",
     "text": [
      "('Epoch ', 0, ' Completed out of ', 30, ' Loss: ', 523022.24629592896)\n",
      "('Epoch ', 1, ' Completed out of ', 30, ' Loss: ', 143208.19585347176)\n",
      "('Epoch ', 2, ' Completed out of ', 30, ' Loss: ', 85752.329555898905)\n",
      "('Epoch ', 3, ' Completed out of ', 30, ' Loss: ', 61921.046885133983)\n",
      "('Epoch ', 4, ' Completed out of ', 30, ' Loss: ', 40284.85032248497)\n",
      "('Epoch ', 5, ' Completed out of ', 30, ' Loss: ', 40545.720373034477)\n",
      "('Epoch ', 6, ' Completed out of ', 30, ' Loss: ', 36974.740808677074)\n",
      "('Epoch ', 7, ' Completed out of ', 30, ' Loss: ', 32490.556590795517)\n",
      "('Epoch ', 8, ' Completed out of ', 30, ' Loss: ', 24056.116515189409)\n",
      "('Epoch ', 9, ' Completed out of ', 30, ' Loss: ', 28436.471076083737)\n",
      "('Epoch ', 10, ' Completed out of ', 30, ' Loss: ', 22447.583482321053)\n",
      "('Epoch ', 11, ' Completed out of ', 30, ' Loss: ', 22929.360972181614)\n",
      "('Epoch ', 12, ' Completed out of ', 30, ' Loss: ', 16505.628389616868)\n",
      "('Epoch ', 13, ' Completed out of ', 30, ' Loss: ', 15159.898291323334)\n",
      "('Epoch ', 14, ' Completed out of ', 30, ' Loss: ', 16936.887430533468)\n",
      "('Epoch ', 15, ' Completed out of ', 30, ' Loss: ', 14351.806293487549)\n",
      "('Epoch ', 16, ' Completed out of ', 30, ' Loss: ', 12181.626635019778)\n",
      "('Epoch ', 17, ' Completed out of ', 30, ' Loss: ', 12127.982321197225)\n",
      "('Epoch ', 18, ' Completed out of ', 30, ' Loss: ', 9160.5168327195861)\n",
      "('Epoch ', 19, ' Completed out of ', 30, ' Loss: ', 11459.733401834113)\n",
      "('Epoch ', 20, ' Completed out of ', 30, ' Loss: ', 9177.5414243364339)\n",
      "('Epoch ', 21, ' Completed out of ', 30, ' Loss: ', 9963.9065759181976)\n",
      "('Epoch ', 22, ' Completed out of ', 30, ' Loss: ', 9561.5100711672567)\n",
      "('Epoch ', 23, ' Completed out of ', 30, ' Loss: ', 7595.7906988561153)\n",
      "('Epoch ', 24, ' Completed out of ', 30, ' Loss: ', 8759.3053530752659)\n",
      "('Epoch ', 25, ' Completed out of ', 30, ' Loss: ', 5616.0642288152876)\n",
      "('Epoch ', 26, ' Completed out of ', 30, ' Loss: ', 6882.7481001615524)\n",
      "('Epoch ', 27, ' Completed out of ', 30, ' Loss: ', 5580.0099305212498)\n",
      "('Epoch ', 28, ' Completed out of ', 30, ' Loss: ', 6748.1854836940765)\n",
      "('Epoch ', 29, ' Completed out of ', 30, ' Loss: ', 5972.7425584318644)\n",
      "('Accuracy: ', 0.97880018)\n"
     ]
    }
   ],
   "source": [
    "train_neural_network(x)"
   ]
  },
  {
   "cell_type": "code",
   "execution_count": null,
   "metadata": {
    "collapsed": true
   },
   "outputs": [],
   "source": []
  }
 ],
 "metadata": {
  "anaconda-cloud": {},
  "kernelspec": {
   "display_name": "Python [conda root]",
   "language": "python",
   "name": "conda-root-py"
  },
  "language_info": {
   "codemirror_mode": {
    "name": "ipython",
    "version": 2
   },
   "file_extension": ".py",
   "mimetype": "text/x-python",
   "name": "python",
   "nbconvert_exporter": "python",
   "pygments_lexer": "ipython2",
   "version": "2.7.12"
  }
 },
 "nbformat": 4,
 "nbformat_minor": 1
}
